{
 "cells": [
  {
   "cell_type": "code",
   "execution_count": 1,
   "metadata": {},
   "outputs": [],
   "source": [
    "import plotnine as p9\n",
    "from plotnine.data import mpg, mtcars\n",
    "from statworx_theme import apply_style_plotnine, get_stwx_cmaps"
   ]
  },
  {
   "cell_type": "code",
   "execution_count": null,
   "metadata": {},
   "outputs": [],
   "source": [
    "# Will apply the matplotlib style, colors need to be manipulated manually\n",
    "apply_style_plotnine()"
   ]
  },
  {
   "cell_type": "code",
   "execution_count": 2,
   "metadata": {},
   "outputs": [
    {
     "data": {
      "text/plain": [
       "dict_keys(['stwx:standard', 'stwx:alternative', 'stwx:deep', 'stwx:bad2good', 'stwx:good2bad', 'stwx:RdRd_diverging', 'stwx:RdBl_diverging', 'stwx:RdGn_diverging', 'stwx:RdYw_diverging', 'stwx:BlRd_diverging', 'stwx:BlBl_diverging', 'stwx:BlGn_diverging', 'stwx:BlYw_diverging', 'stwx:GnRd_diverging', 'stwx:GnBl_diverging', 'stwx:GnGn_diverging', 'stwx:GnYw_diverging', 'stwx:YwRd_diverging', 'stwx:YwBl_diverging', 'stwx:YwGn_diverging', 'stwx:YwYw_diverging', 'stwx:RdBl_blend', 'stwx:RdGn_blend', 'stwx:RdYw_blend', 'stwx:BlRd_blend', 'stwx:BlGn_blend', 'stwx:BlYw_blend', 'stwx:GnRd_blend', 'stwx:GnBl_blend', 'stwx:GnYw_blend', 'stwx:YwRd_blend', 'stwx:YwBl_blend', 'stwx:YwGn_blend', 'stwx:Rd_fade', 'stwx:Bl_fade', 'stwx:Gn_fade', 'stwx:Yw_fade', 'stwx:Rd_rise', 'stwx:Bl_rise', 'stwx:Gn_rise', 'stwx:Yw_rise'])"
      ]
     },
     "execution_count": 2,
     "metadata": {},
     "output_type": "execute_result"
    }
   ],
   "source": [
    "stwx_cmaps = get_stwx_cmaps()\n",
    "stwx_cmaps.keys()"
   ]
  },
  {
   "cell_type": "code",
   "execution_count": null,
   "metadata": {},
   "outputs": [],
   "source": [
    "plot = (p9.ggplot(mtcars, p9.aes('wt', 'mpg', color='factor(cyl)'))\n",
    "      + p9.geom_point()\n",
    "      + p9.labs(title='mpg vs wt')\n",
    "      + p9.scale_color_manual(stwx_cmaps[\"stwx:standard\"])\n",
    "     )\n",
    "plot"
   ]
  },
  {
   "cell_type": "code",
   "execution_count": null,
   "metadata": {},
   "outputs": [],
   "source": [
    "def proportion_per_value(category, count):\n",
    "    \"\"\"\n",
    "    Compute the proportion per category\n",
    "    \"\"\"\n",
    "    df = pd.DataFrame({\n",
    "        'x': category,\n",
    "        'count': count\n",
    "    })\n",
    "    proportion = df['count']/df.groupby('x')['count'].transform('sum')\n",
    "    return proportion\n",
    "\n",
    "plot2 = (p9.ggplot(mtcars, p9.aes('factor(cyl)', fill='factor(am)'))\n",
    " + p9.geom_bar(position='fill')\n",
    " + p9.geom_label(\n",
    "     p9.aes(label=p9.after_stat('proportion_per_value(x, count) * 100')),\n",
    "     stat='count',\n",
    "     position='fill',\n",
    "     format_string='{:.1f}%',\n",
    "     size=9,\n",
    "     color='white'\n",
    " )\n",
    "  + p9.scale_fill_manual(stwx_cmaps[\"stwx:alternative\"])\n",
    ")\n",
    "\n",
    "plot2"
   ]
  },
  {
   "cell_type": "code",
   "execution_count": null,
   "metadata": {},
   "outputs": [],
   "source": [
    "plot3 = (p9.ggplot(mtcars, p9.aes('factor(cyl)', fill='factor(am)'))\n",
    " + p9.geom_bar(position='dodge2')\n",
    "    + p9.scale_color_manual(stwx_cmaps[\"stwx:alternative\"])\n",
    " + p9.geom_text(\n",
    "     p9.aes(\n",
    "         label=p9.after_stat('proportion_per_value(x, count) * 100'),\n",
    "         y=p9.stage(after_stat='count', after_scale='y+.25')\n",
    "     ),\n",
    "     stat='count',\n",
    "     position=p9.position_dodge2(width=0.9),\n",
    "     format_string='{:.1f}%',\n",
    "     size=9,\n",
    " )\n",
    "+ p9.scale_fill_manual(stwx_cmaps[\"stwx:alternative\"])\n",
    ")\n",
    "\n",
    "plot3"
   ]
  },
  {
   "cell_type": "code",
   "execution_count": null,
   "metadata": {},
   "outputs": [],
   "source": [
    "correlations = mpg.corr()\n",
    "\n",
    "data = []\n",
    "for column in correlations.index:\n",
    "    for corr_column in correlations.columns:\n",
    "        data.append([column, corr_column, correlations.loc[column, corr_column]])\n",
    "\n",
    "correlations = pd.DataFrame(data=data, columns=[\"Column\", \"Corr_Column\", \"Correlation\"])\n",
    "\n",
    "plot4 = (p9.ggplot(data=correlations) \n",
    " + p9.geom_tile(mapping=p9.aes(x=\"Column\", y=\"Corr_Column\", fill=\"Correlation\"))\n",
    " + p9.geom_text( p9.aes(x=\"Column\", y=\"Corr_Column\", label='Correlation'), size=8, format_string='{:.2f}')\n",
    " +  p9.labs(x=\"\", y=\"\", title=\"Correlation MPG\")\n",
    " +  p9.scale_fill_cmap(stwx_cmaps[\"stwx:RdBl_diverging\"]) # color map\n",
    ")\n",
    "plot4"
   ]
  }
 ],
 "metadata": {
  "kernelspec": {
   "display_name": "Python 3.9.10 ('.venv': poetry)",
   "language": "python",
   "name": "python3"
  },
  "language_info": {
   "codemirror_mode": {
    "name": "ipython",
    "version": 3
   },
   "file_extension": ".py",
   "mimetype": "text/x-python",
   "name": "python",
   "nbconvert_exporter": "python",
   "pygments_lexer": "ipython3",
   "version": "3.9.10"
  },
  "orig_nbformat": 4,
  "vscode": {
   "interpreter": {
    "hash": "2284885e6e98b43849e8b5ec2c301fa918b600d8426a07c1b0270353fe44784b"
   }
  }
 },
 "nbformat": 4,
 "nbformat_minor": 2
}
