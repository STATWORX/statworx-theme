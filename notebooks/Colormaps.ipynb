{
 "cells": [
  {
   "cell_type": "markdown",
   "metadata": {},
   "source": [
    "# Colormaps\n",
    "----------"
   ]
  },
  {
   "cell_type": "code",
   "execution_count": null,
   "metadata": {},
   "outputs": [],
   "source": [
    "import seaborn as sns\n",
    "from matplotlib import pyplot as plt\n",
    "from matplotlib.colors import ListedColormap\n",
    "\n",
    "from statworx_theme import get_stwx_cmaps"
   ]
  },
  {
   "cell_type": "code",
   "execution_count": null,
   "metadata": {},
   "outputs": [],
   "source": [
    "BLACK = \"#000000\"\n",
    "WHITE = \"#FFFFFF\"\n",
    "\n",
    "# GREY\n",
    "DEEP_GREY = \"#6C7D8C\"\n",
    "DARK_GREY = \"#7D8AA4\"\n",
    "DARKER_GREY = \"#283440\"\n",
    "GRAY = \"#B6BDCC\"\n",
    "LIGHT_GREY = \"#9BAEC1\"\n",
    "LIGHTER_GREY = \"#EBF0F2\"\n",
    "\n",
    "# YELLOW\n",
    "DEEP_YELLOW = \"#FFFF00\"\n",
    "\n",
    "# VIOLEt\n",
    "DEEP_VIOLET = \"#7f00ff\"\n",
    "\n",
    "# CYAN\n",
    "DEEP_CYAN = \"#01BAEF\"\n",
    "\n",
    "# ORANGE\n",
    "DEEP_ORANGE = \"#FF781F\"\n",
    "\n",
    "# BLUE\n",
    "DEEP_BLUE = \"#0000FF\"\n",
    "BLUE = \"#0000BF\"\n",
    "LIGHT_BLUE = \"#9999FF\"\n",
    "\n",
    "# PINK\n",
    "DARK_PINK = \"#C7014F\"\n",
    "DEEP_PINK = \"#FE0D6C\"\n",
    "LIGHT_PINK = \"#FF9EC4\"\n",
    "\n",
    "# GREEN\n",
    "DEEP_GREEN = \"#00C800\"\n",
    "LIGHT_GREEN = \"#83FF83\"\n",
    "DARK_GREEN = \"#009600\"\n",
    "\n",
    "# define standard colors\n",
    "C0 = BLUE\n",
    "C1 = LIGHT_GREY\n",
    "C2 = LIGHT_BLUE\n",
    "C3 = DEEP_GREY\n",
    "C4 = DARK_PINK\n",
    "C5 = LIGHT_GREEN\n",
    "C6 = LIGHT_PINK\n",
    "C7 = DARK_GREEN\n",
    "\n",
    "hightlight_colors = [\n",
    "    DEEP_BLUE,\n",
    "    BLACK,\n",
    "    WHITE,\n",
    "    DARKER_GREY,\n",
    "    DEEP_GREY,\n",
    "    GRAY,\n",
    "    LIGHTER_GREY,\n",
    "    DEEP_PINK,\n",
    "    DEEP_GREEN,\n",
    "    DEEP_YELLOW,\n",
    "]\n",
    "\n",
    "sns.color_palette(hightlight_colors)"
   ]
  },
  {
   "cell_type": "code",
   "execution_count": null,
   "metadata": {},
   "outputs": [],
   "source": [
    "standard_colors = [\n",
    "    BLUE,\n",
    "    LIGHT_GREY,\n",
    "    LIGHT_BLUE,\n",
    "    DEEP_GREY,\n",
    "    DARK_PINK,\n",
    "    LIGHT_GREEN,\n",
    "    LIGHT_PINK,\n",
    "    DARK_GREEN,\n",
    "]\n",
    "ListedColormap(standard_colors)\n",
    "# sns.color_palette(standard_colors)"
   ]
  },
  {
   "cell_type": "code",
   "execution_count": null,
   "metadata": {},
   "outputs": [],
   "source": [
    "alternative_colors = [\n",
    "    BLUE,\n",
    "    LIGHT_GREY,\n",
    "    DARK_PINK,\n",
    "    LIGHT_GREEN,\n",
    "    LIGHT_BLUE,\n",
    "    DEEP_GREY,\n",
    "    LIGHT_PINK,\n",
    "    DARK_GREEN,\n",
    "]\n",
    "ListedColormap(alternative_colors)"
   ]
  },
  {
   "cell_type": "code",
   "execution_count": null,
   "metadata": {},
   "outputs": [],
   "source": [
    "deep_colors = [\n",
    "    DEEP_BLUE,\n",
    "    DEEP_PINK,\n",
    "    DEEP_GREEN,\n",
    "    DEEP_VIOLET,\n",
    "    DEEP_CYAN,\n",
    "    DEEP_ORANGE,\n",
    "]\n",
    "ListedColormap(deep_colors)"
   ]
  },
  {
   "cell_type": "markdown",
   "metadata": {},
   "source": [
    "## All registered colormaps for the statworx theme"
   ]
  },
  {
   "cell_type": "code",
   "execution_count": null,
   "metadata": {},
   "outputs": [],
   "source": [
    "stwx_colormaps = get_stwx_cmaps()\n",
    "import matplotlib as mpl\n",
    "\n",
    "\n",
    "def plot_cmap(cmap):\n",
    "    fig, ax = plt.subplots(figsize=(7, 0.8))\n",
    "    cmap = plt.get_cmap(cmap)\n",
    "    mpl.colorbar.ColorbarBase(ax, cmap=cmap, orientation=\"horizontal\")\n",
    "    plt.show()\n",
    "\n",
    "\n",
    "for name, cmap in stwx_colormaps.items():\n",
    "    print(name)\n",
    "    plot_cmap(name)"
   ]
  }
 ],
 "metadata": {
  "kernelspec": {
   "display_name": "Python 3.9.10 ('.venv': poetry)",
   "language": "python",
   "name": "python3"
  },
  "language_info": {
   "codemirror_mode": {
    "name": "ipython",
    "version": 3
   },
   "file_extension": ".py",
   "mimetype": "text/x-python",
   "name": "python",
   "nbconvert_exporter": "python",
   "pygments_lexer": "ipython3",
   "version": "3.11.3"
  },
  "orig_nbformat": 4,
  "vscode": {
   "interpreter": {
    "hash": "2284885e6e98b43849e8b5ec2c301fa918b600d8426a07c1b0270353fe44784b"
   }
  }
 },
 "nbformat": 4,
 "nbformat_minor": 2
}
