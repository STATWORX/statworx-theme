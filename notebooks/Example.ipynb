{
 "cells": [
  {
   "cell_type": "markdown",
   "metadata": {},
   "source": [
    "# Example"
   ]
  },
  {
   "cell_type": "code",
   "execution_count": null,
   "metadata": {},
   "outputs": [],
   "source": [
    "%load_ext autoreload\n",
    "%autoreload 2"
   ]
  },
  {
   "cell_type": "code",
   "execution_count": null,
   "metadata": {},
   "outputs": [],
   "source": [
    "import matplotlib.pyplot as plt\n",
    "import numpy as np\n",
    "import pandas as pd\n",
    "import seaborn as sns"
   ]
  },
  {
   "cell_type": "markdown",
   "metadata": {},
   "source": [
    "## Apply Style"
   ]
  },
  {
   "cell_type": "code",
   "execution_count": null,
   "metadata": {},
   "outputs": [],
   "source": [
    "from statworx_theme import apply_style\n",
    "\n",
    "apply_style()"
   ]
  },
  {
   "cell_type": "markdown",
   "metadata": {},
   "source": [
    "## Plot"
   ]
  },
  {
   "cell_type": "code",
   "execution_count": null,
   "metadata": {},
   "outputs": [],
   "source": [
    "# Load the penguins dataset\n",
    "penguins = sns.load_dataset(\"penguins\")\n",
    "\n",
    "# Plot sepal width as a function of sepal_length across days\n",
    "g = sns.lmplot(\n",
    "    data=penguins,\n",
    "    x=\"bill_length_mm\",\n",
    "    y=\"bill_depth_mm\",\n",
    "    hue=\"species\",\n",
    "    height=5,\n",
    ")\n",
    "\n",
    "# Use more informative axis labels than are provided by default\n",
    "g.set_axis_labels(\"Snoot length (mm)\", \"Snoot depth (mm)\")"
   ]
  },
  {
   "cell_type": "code",
   "execution_count": null,
   "metadata": {},
   "outputs": [],
   "source": [
    "# Load the penguins dataset\n",
    "penguins = sns.load_dataset(\"penguins\")\n",
    "\n",
    "# Show the joint distribution using kernel density estimation\n",
    "#\n",
    "g = sns.jointplot(\n",
    "    data=penguins,\n",
    "    x=\"bill_length_mm\",\n",
    "    y=\"bill_depth_mm\",\n",
    "    hue=\"species\",\n",
    "    kind=\"kde\",\n",
    ")"
   ]
  },
  {
   "cell_type": "code",
   "execution_count": null,
   "metadata": {},
   "outputs": [],
   "source": [
    "import seaborn as sns\n",
    "\n",
    "# Load the diamonds dataset\n",
    "diamonds = sns.load_dataset(\"diamonds\")\n",
    "\n",
    "# Plot the distribution of clarity ratings, conditional on carat\n",
    "sns.displot(\n",
    "    data=diamonds,\n",
    "    x=\"carat\",\n",
    "    hue=\"cut\",\n",
    "    kind=\"kde\",\n",
    "    height=6,\n",
    "    multiple=\"fill\",\n",
    "    clip=(0, None),\n",
    "    palette=\"stwx:Bl_fade\",\n",
    ")"
   ]
  },
  {
   "cell_type": "code",
   "execution_count": null,
   "metadata": {},
   "outputs": [],
   "source": [
    "# Load the example flights dataset and convert to long-form\n",
    "flights_long = sns.load_dataset(\"flights\")\n",
    "flights = flights_long.pivot(\"month\", \"year\", \"passengers\")\n",
    "\n",
    "# Draw a heatmap with the numeric values in each cell\n",
    "f, ax = plt.subplots(figsize=(9, 6))\n",
    "sns.heatmap(flights, annot=True, fmt=\"d\", linewidths=0.5, ax=ax, cmap=\"stwx:good2bad\")"
   ]
  },
  {
   "cell_type": "code",
   "execution_count": null,
   "metadata": {},
   "outputs": [],
   "source": [
    "# Generate an example radial datast\n",
    "r = np.linspace(0, 10, num=100)\n",
    "df = pd.DataFrame({\"r\": r, \"slow\": r, \"medium\": 2 * r, \"fast\": 4 * r})\n",
    "\n",
    "# Convert the dataframe to long-form or \"tidy\" format\n",
    "df = pd.melt(df, id_vars=[\"r\"], var_name=\"speed\", value_name=\"theta\")\n",
    "\n",
    "# Set up a grid of axes with a polar projection\n",
    "g = sns.FacetGrid(\n",
    "    df,\n",
    "    col=\"speed\",\n",
    "    hue=\"speed\",\n",
    "    subplot_kws=dict(projection=\"polar\"),\n",
    "    height=4.5,\n",
    "    sharex=False,\n",
    "    sharey=False,\n",
    "    despine=False,\n",
    ")\n",
    "\n",
    "# Draw a scatterplot onto each axes in the grid\n",
    "g.map(sns.scatterplot, \"theta\", \"r\")"
   ]
  }
 ],
 "metadata": {
  "interpreter": {
   "hash": "ec5e8a6dec373659227548865fd1d434faf4663ffc2d186c860b8d19ec87e7c3"
  },
  "kernelspec": {
   "display_name": "Python 3.10.2 ('.venv': poetry)",
   "language": "python",
   "name": "python3"
  },
  "language_info": {
   "codemirror_mode": {
    "name": "ipython",
    "version": 3
   },
   "file_extension": ".py",
   "mimetype": "text/x-python",
   "name": "python",
   "nbconvert_exporter": "python",
   "pygments_lexer": "ipython3",
   "version": "3.8.9"
  },
  "orig_nbformat": 4
 },
 "nbformat": 4,
 "nbformat_minor": 2
}
