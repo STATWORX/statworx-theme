{
 "cells": [
  {
   "cell_type": "markdown",
   "metadata": {},
   "source": [
    "# Gallery\n",
    "---------"
   ]
  },
  {
   "cell_type": "markdown",
   "metadata": {},
   "source": [
    "## Apply Style"
   ]
  },
  {
   "cell_type": "code",
   "execution_count": null,
   "metadata": {},
   "outputs": [],
   "source": [
    "import numpy as np\n",
    "import pandas as pd\n",
    "import plotly.express as px\n",
    "import plotly.graph_objects as go\n",
    "import plotly.io as pio\n",
    "\n",
    "from statworx_theme import apply_style_plotly\n",
    "\n",
    "# apply style\n",
    "apply_style_plotly()\n",
    "print(pio.templates.default)"
   ]
  },
  {
   "cell_type": "markdown",
   "metadata": {},
   "source": [
    "## Distributions"
   ]
  },
  {
   "cell_type": "code",
   "execution_count": null,
   "metadata": {},
   "outputs": [],
   "source": [
    "# Even though the theme is registered, for figure factory plots the colors need to be manually set.\n",
    "from plotly.figure_factory import create_distplot\n",
    "\n",
    "df = pd.DataFrame(\n",
    "    {\n",
    "        \"2019\": np.random.randn(200),\n",
    "        \"2020\": np.random.randn(200) + 1,\n",
    "        \"2021\": np.random.randn(200) - 1.5,\n",
    "    }\n",
    ")\n",
    "\n",
    "\n",
    "fig = create_distplot(\n",
    "    [df[c] for c in df.columns],\n",
    "    df.columns,\n",
    "    curve_type=\"kde\",\n",
    "    show_rug=False,\n",
    "    bin_size=0.4,\n",
    "    show_hist=False,\n",
    "    colors=pio.templates[\"statworx_plotly_theme\"].layout.colorway,\n",
    ")\n",
    "\n",
    "\n",
    "fig.update_layout(\n",
    "    width=800,\n",
    "    height=500,\n",
    ")\n",
    "fig.show()"
   ]
  },
  {
   "cell_type": "code",
   "execution_count": null,
   "metadata": {},
   "outputs": [],
   "source": [
    "# Source: https://plotly.com/python/distplot/\n",
    "fig = create_distplot(\n",
    "    [df[c] for c in df.columns],\n",
    "    df.columns,\n",
    "    bin_size=0.25,\n",
    "    colors=pio.templates[\"statworx_plotly_theme\"].layout.colorway,\n",
    ")\n",
    "fig.update_layout(\n",
    "    width=800,\n",
    "    height=500,\n",
    ")\n",
    "fig.show()"
   ]
  },
  {
   "cell_type": "code",
   "execution_count": null,
   "metadata": {},
   "outputs": [],
   "source": [
    "# Source: https://plotly.com/python/distplot/\n",
    "\n",
    "import plotly.express as px\n",
    "\n",
    "df = px.data.tips()\n",
    "fig = px.histogram(\n",
    "    df,\n",
    "    x=\"total_bill\",\n",
    "    y=\"tip\",\n",
    "    color=\"sex\",\n",
    "    marginal=\"violin\",  # or box, rug\n",
    "    hover_data=df.columns,\n",
    ")\n",
    "\n",
    "fig.update_layout(\n",
    "    width=800,\n",
    "    height=500,\n",
    ")\n",
    "\n",
    "fig.show()"
   ]
  },
  {
   "cell_type": "code",
   "execution_count": null,
   "metadata": {},
   "outputs": [],
   "source": [
    "df = px.data.tips()\n",
    "fig = px.violin(df, y=\"tip\", x=\"smoker\", color=\"sex\", hover_data=df.columns)\n",
    "\n",
    "fig.update_layout(\n",
    "    width=800,\n",
    "    height=500,\n",
    ")\n",
    "\n",
    "fig.show()"
   ]
  },
  {
   "cell_type": "markdown",
   "metadata": {},
   "source": [
    "## Timeseries"
   ]
  },
  {
   "cell_type": "code",
   "execution_count": null,
   "metadata": {},
   "outputs": [],
   "source": [
    "# Source: https://plotly.com/python/time-series/\n",
    "\n",
    "df = px.data.stocks()\n",
    "fig = px.line(\n",
    "    df,\n",
    "    x=\"date\",\n",
    "    y=df.columns,\n",
    "    hover_data={\"date\": \"|%B %d, %Y\"},\n",
    ")\n",
    "fig.update_xaxes(dtick=\"M1\", tickformat=\"%b\\n%Y\")\n",
    "\n",
    "fig.update_layout(\n",
    "    width=800,\n",
    "    height=500,\n",
    ")\n",
    "\n",
    "fig.show()"
   ]
  },
  {
   "cell_type": "code",
   "execution_count": null,
   "metadata": {},
   "outputs": [],
   "source": [
    "# Source: https://plotly.com/python/time-series/\n",
    "\n",
    "df = px.data.stocks(indexed=True) - 1\n",
    "fig = px.area(df, facet_col=\"company\", facet_col_wrap=2)\n",
    "\n",
    "fig.update_layout(\n",
    "    width=800,\n",
    "    height=500,\n",
    ")\n",
    "\n",
    "fig.show()"
   ]
  },
  {
   "cell_type": "markdown",
   "metadata": {},
   "source": [
    "## Relationship"
   ]
  },
  {
   "cell_type": "code",
   "execution_count": null,
   "metadata": {},
   "outputs": [],
   "source": [
    "# Categorical data\n",
    "df = px.data.iris()\n",
    "fig = px.scatter(\n",
    "    df,\n",
    "    x=\"sepal_width\",\n",
    "    y=\"sepal_length\",\n",
    "    color=\"species\",\n",
    "    size=\"petal_width\",\n",
    "    title=\"Sepal characteristics per species\",\n",
    ")\n",
    "\n",
    "fig.update_layout(\n",
    "    width=800,\n",
    "    height=500,\n",
    ")\n",
    "\n",
    "fig.show()"
   ]
  },
  {
   "cell_type": "code",
   "execution_count": null,
   "metadata": {},
   "outputs": [],
   "source": [
    "# Sequential data:\n",
    "# Source: https://plotly.com/python/line-and-scatter/\n",
    "df = px.data.iris()\n",
    "fig = px.scatter(df, x=\"sepal_width\", y=\"sepal_length\", color=\"petal_length\")\n",
    "\n",
    "fig.update_layout(\n",
    "    width=800,\n",
    "    height=500,\n",
    ")\n",
    "\n",
    "fig.show()"
   ]
  },
  {
   "cell_type": "code",
   "execution_count": null,
   "metadata": {},
   "outputs": [],
   "source": [
    "# Source: https://plotly.com/python/splom/\n",
    "df = px.data.iris()\n",
    "fig = px.scatter_matrix(\n",
    "    df,\n",
    "    dimensions=[\"sepal_width\", \"sepal_length\", \"petal_width\", \"petal_length\"],\n",
    "    color=\"species\",\n",
    ")\n",
    "\n",
    "fig.update_layout(\n",
    "    title=\"Iris Data set\",\n",
    "    width=800,\n",
    "    height=600,\n",
    ")\n",
    "\n",
    "fig.show()"
   ]
  },
  {
   "cell_type": "code",
   "execution_count": null,
   "metadata": {},
   "outputs": [],
   "source": [
    "# Source: https://plotly.com/python/line-and-scatter/\n",
    "\n",
    "df = px.data.iris()\n",
    "fig = px.scatter(\n",
    "    df, x=\"sepal_length\", y=\"sepal_width\", marginal_x=\"rug\", marginal_y=\"rug\"\n",
    ")\n",
    "\n",
    "fig.update_layout(\n",
    "    width=800,\n",
    "    height=500,\n",
    ")\n",
    "\n",
    "fig.show()"
   ]
  },
  {
   "cell_type": "code",
   "execution_count": null,
   "metadata": {},
   "outputs": [],
   "source": [
    "# Source: https://plotly.com/python/line-and-scatter/\n",
    "\n",
    "df = px.data.iris()\n",
    "fig = px.scatter(\n",
    "    df,\n",
    "    x=\"sepal_length\",\n",
    "    y=\"sepal_width\",\n",
    "    marginal_x=\"histogram\",\n",
    "    marginal_y=\"histogram\",\n",
    "    color=\"species\",\n",
    ")\n",
    "\n",
    "fig.update_layout(\n",
    "    width=800,\n",
    "    height=500,\n",
    ")\n",
    "\n",
    "fig.show()"
   ]
  },
  {
   "cell_type": "code",
   "execution_count": null,
   "metadata": {},
   "outputs": [],
   "source": [
    "z = [\n",
    "    [0.1, 0.3, 0.5, 0.7, 0.9],\n",
    "    [1, 0.8, 0.6, 0.4, 0.2],\n",
    "    [0.2, 0, 0.5, 0.7, 0.9],\n",
    "    [0.9, 0.8, 0.4, 0.2, 0],\n",
    "    [0.3, 0.4, 0.5, 0.7, 1],\n",
    "]\n",
    "\n",
    "fig = px.imshow(z, text_auto=True)\n",
    "\n",
    "fig.update_layout(\n",
    "    width=800,\n",
    "    height=500,\n",
    ")\n",
    "\n",
    "fig.show()"
   ]
  },
  {
   "cell_type": "code",
   "execution_count": null,
   "metadata": {},
   "outputs": [],
   "source": [
    "corr = [\n",
    "    [-1, -0.3, 0.5, 0.7, -0.9],\n",
    "    [1, 0.8, 0.6, -0.4, -0.2],\n",
    "    [0.2, 0, -0.5, 0.7, -0.9],\n",
    "    [0.9, -0.8, -0.4, 0.2, 0],\n",
    "    [0.3, 0.4, 0.5, 0.7, 1],\n",
    "]\n",
    "\n",
    "# set diverging colorscheme for diverging corelation heatmap\n",
    "fig = px.imshow(\n",
    "    corr,\n",
    "    text_auto=True,\n",
    "    color_continuous_scale=pio.templates[\n",
    "        pio.templates.default\n",
    "    ].layout.colorscale.diverging,\n",
    ")\n",
    "\n",
    "fig.update_layout(\n",
    "    width=800,\n",
    "    height=500,\n",
    ")\n",
    "\n",
    "fig.show()"
   ]
  },
  {
   "cell_type": "code",
   "execution_count": null,
   "metadata": {},
   "outputs": [],
   "source": [
    "# For plotly graph object heatmaps the diverging color scheme is automatically applied\n",
    "\n",
    "# Source: https://plotly.com/python/heatmaps/\n",
    "import random\n",
    "\n",
    "np.random.seed(0)\n",
    "focus = np.random.rand(150)\n",
    "np.random.seed(3000)\n",
    "distraction = -(focus * np.random.rand(150))\n",
    "np.random.seed(22000)\n",
    "productivity = np.random.rand(150)\n",
    "home_office = random.choices([0, 1], k=150)\n",
    "\n",
    "df = pd.DataFrame(\n",
    "    {\n",
    "        \"focus\": focus,\n",
    "        \"distraction\": distraction,\n",
    "        \"productivity\": productivity,\n",
    "        \"home_office\": home_office,\n",
    "    }\n",
    ")\n",
    "df_corr = df.corr()\n",
    "\n",
    "fig = go.Figure(\n",
    "    data=go.Heatmap(\n",
    "        x=df_corr.columns,\n",
    "        y=df_corr.index,\n",
    "        z=np.array(df_corr),\n",
    "        text=df_corr.values,\n",
    "        texttemplate=\"%{text:.2f}\",\n",
    "        zmin=-1,\n",
    "        zmax=1,\n",
    "    ),\n",
    ")\n",
    "\n",
    "fig.update_layout(\n",
    "    width=800,\n",
    "    height=500,\n",
    ")\n",
    "\n",
    "fig.show()"
   ]
  },
  {
   "cell_type": "markdown",
   "metadata": {},
   "source": [
    "## Comparison"
   ]
  },
  {
   "cell_type": "code",
   "execution_count": null,
   "metadata": {},
   "outputs": [],
   "source": [
    "# Source: https://plotly.com/python/bar-charts/\n",
    "\n",
    "df = px.data.tips()\n",
    "fig = px.histogram(\n",
    "    df,\n",
    "    x=\"sex\",\n",
    "    y=\"total_bill\",\n",
    "    color=\"smoker\",\n",
    "    barmode=\"group\",\n",
    "    histfunc=\"avg\",\n",
    "    height=400,\n",
    ")\n",
    "\n",
    "\n",
    "fig.update_layout(\n",
    "    width=800,\n",
    "    height=500,\n",
    ")\n",
    "\n",
    "fig.show()"
   ]
  },
  {
   "cell_type": "code",
   "execution_count": null,
   "metadata": {},
   "outputs": [],
   "source": [
    "# Source: https://plotly.com/python/bar-charts/\n",
    "\n",
    "df = px.data.medals_long()\n",
    "\n",
    "fig = px.bar(df, y=\"medal\", x=\"count\", color=\"nation\", text_auto=True)\n",
    "\n",
    "fig.update_layout(\n",
    "    width=800,\n",
    "    height=500,\n",
    ")\n",
    "\n",
    "fig.show()"
   ]
  },
  {
   "cell_type": "markdown",
   "metadata": {},
   "source": [
    "## Difference"
   ]
  },
  {
   "cell_type": "code",
   "execution_count": null,
   "metadata": {},
   "outputs": [],
   "source": [
    "N = 10\n",
    "fig = go.Figure(\n",
    "    data=[\n",
    "        go.Box(\n",
    "            y=3.5 * np.sin(np.pi * i / N)\n",
    "            + i / N\n",
    "            + (1.5 + 0.5 * np.cos(np.pi * i / N)) * np.random.rand(10),\n",
    "        )\n",
    "        for i in range(int(N))\n",
    "    ]\n",
    ")\n",
    "\n",
    "\n",
    "fig.update_layout(\n",
    "    width=800,\n",
    "    height=500,\n",
    ")\n",
    "\n",
    "\n",
    "fig.show()"
   ]
  },
  {
   "cell_type": "code",
   "execution_count": null,
   "metadata": {},
   "outputs": [],
   "source": [
    "# Currently not possible because of statsmodels error, when plotting the trendline\n",
    "\n",
    "df = px.data.iris()\n",
    "fig = px.scatter(\n",
    "    df, x=\"sepal_length\", y=\"sepal_width\", color=\"species\", trendline=\"ols\"\n",
    ")\n",
    "\n",
    "fig.update_layout(\n",
    "    width=800,\n",
    "    height=500,\n",
    ")\n",
    "\n",
    "fig.show()"
   ]
  },
  {
   "cell_type": "code",
   "execution_count": null,
   "metadata": {},
   "outputs": [],
   "source": [
    "# Source: https://plotly.com/python/strip-charts/\n",
    "\n",
    "df = px.data.tips()\n",
    "fig = px.strip(df, x=\"total_bill\", y=\"day\")\n",
    "\n",
    "fig.update_layout(\n",
    "    width=800,\n",
    "    height=500,\n",
    ")\n",
    "\n",
    "fig.show()"
   ]
  },
  {
   "cell_type": "code",
   "execution_count": null,
   "metadata": {},
   "outputs": [],
   "source": [
    "# Source: https://plotly.com/python/strip-charts/\n",
    "\n",
    "df = px.data.tips()\n",
    "fig = px.strip(df, x=\"total_bill\", y=\"time\", color=\"sex\", facet_col=\"day\")\n",
    "\n",
    "fig.update_layout(\n",
    "    width=800,\n",
    "    height=500,\n",
    ")\n",
    "\n",
    "fig.show()"
   ]
  },
  {
   "cell_type": "markdown",
   "metadata": {},
   "source": [
    "## Additional Plots and Inspiration"
   ]
  },
  {
   "cell_type": "markdown",
   "metadata": {},
   "source": [
    "https://plotly.com/python/\n",
    "\n",
    "https://plotly.com/python/figure-factories/"
   ]
  }
 ],
 "metadata": {
  "kernelspec": {
   "display_name": "Python 3.9.10 ('.venv': poetry)",
   "language": "python",
   "name": "python3"
  },
  "language_info": {
   "codemirror_mode": {
    "name": "ipython",
    "version": 3
   },
   "file_extension": ".py",
   "mimetype": "text/x-python",
   "name": "python",
   "nbconvert_exporter": "python",
   "pygments_lexer": "ipython3",
   "version": "3.11.3"
  },
  "orig_nbformat": 4,
  "vscode": {
   "interpreter": {
    "hash": "2284885e6e98b43849e8b5ec2c301fa918b600d8426a07c1b0270353fe44784b"
   }
  }
 },
 "nbformat": 4,
 "nbformat_minor": 2
}
