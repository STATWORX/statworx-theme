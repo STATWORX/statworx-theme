{
 "cells": [
  {
   "cell_type": "markdown",
   "metadata": {},
   "source": [
    "# Custom Colors Pyplot\n",
    "----------------------------------"
   ]
  },
  {
   "cell_type": "markdown",
   "metadata": {},
   "source": [
    "## Imports"
   ]
  },
  {
   "cell_type": "code",
   "execution_count": null,
   "metadata": {},
   "outputs": [],
   "source": [
    "import random\n",
    "\n",
    "import numpy as np\n",
    "import pandas as pd\n",
    "import plotly.express as px\n",
    "import plotly.graph_objects as go\n",
    "import plotly.io as pio"
   ]
  },
  {
   "cell_type": "markdown",
   "metadata": {},
   "source": [
    "## Generate Custom Style"
   ]
  },
  {
   "cell_type": "code",
   "execution_count": null,
   "metadata": {},
   "outputs": [],
   "source": [
    "from statworx_theme import (\n",
    "    apply_custom_colors_plotly,\n",
    "    get_stwx_cmaps,\n",
    "    register_blended_cmap,\n",
    ")\n",
    "\n",
    "# define custom colors\n",
    "BLACK = \"#000000\"\n",
    "WHITE = \"#ffffff\"\n",
    "DARK_BLUE = \"#0A526B\"\n",
    "DARK_RED = \"#6B0020\"\n",
    "GREY = \"#808285\"\n",
    "DARK_GREY = \"#313132\"\n",
    "LIGHT_GREY = \"#ADAFB3\"\n",
    "\n",
    "# apply custom color schema\n",
    "custom_colors = [\n",
    "    DARK_BLUE,\n",
    "    DARK_RED,\n",
    "    GREY,\n",
    "    DARK_GREY,\n",
    "    LIGHT_GREY,\n",
    "]\n",
    "\n",
    "# add custom color map\n",
    "_ = register_blended_cmap([BLACK, DARK_BLUE, WHITE], \"stwx:custom_blue_fade\")\n",
    "\n",
    "stwx_cmaps = get_stwx_cmaps()"
   ]
  },
  {
   "cell_type": "markdown",
   "metadata": {},
   "source": [
    "## Colormaps for Manipulation of the theme"
   ]
  },
  {
   "cell_type": "code",
   "execution_count": null,
   "metadata": {},
   "outputs": [],
   "source": [
    "stwx_cmaps = get_stwx_cmaps()\n",
    "\n",
    "stwx_cmaps.keys()"
   ]
  },
  {
   "cell_type": "markdown",
   "metadata": {},
   "source": [
    "## Apply Custom Style Altair"
   ]
  },
  {
   "cell_type": "code",
   "execution_count": null,
   "metadata": {},
   "outputs": [],
   "source": [
    "# Any of the colormaps or any list of hexadecimal colorcodes can be applied inside the custom theme:\n",
    "# Parameters: category, diverging, sequential, sequential_minus, heatmap\n",
    "apply_custom_colors_plotly(\n",
    "    category=custom_colors, sequential=stwx_cmaps[\"stwx:custom_blue_fade\"]\n",
    ")\n",
    "print(pio.templates.default)"
   ]
  },
  {
   "cell_type": "markdown",
   "metadata": {},
   "source": [
    "## Plot"
   ]
  },
  {
   "cell_type": "code",
   "execution_count": null,
   "metadata": {},
   "outputs": [],
   "source": [
    "# Custom categorical colors\n",
    "df = px.data.iris()\n",
    "fig = px.scatter(\n",
    "    df,\n",
    "    x=\"sepal_width\",\n",
    "    y=\"sepal_length\",\n",
    "    color=\"species\",\n",
    "    title=\"Sepal characteristics per species\",\n",
    ")\n",
    "\n",
    "fig.update_layout(\n",
    "    width=800,\n",
    "    height=500,\n",
    ")\n",
    "\n",
    "fig.show()"
   ]
  },
  {
   "cell_type": "code",
   "execution_count": null,
   "metadata": {},
   "outputs": [],
   "source": [
    "# Custom sequential colors\n",
    "# Source: https://plotly.com/python/line-and-scatter/\n",
    "df = px.data.iris()\n",
    "fig = px.scatter(df, x=\"sepal_width\", y=\"sepal_length\", color=\"petal_length\")\n",
    "\n",
    "fig.update_layout(\n",
    "    width=800,\n",
    "    height=500,\n",
    ")\n",
    "\n",
    "fig.show()"
   ]
  },
  {
   "cell_type": "code",
   "execution_count": null,
   "metadata": {},
   "outputs": [],
   "source": [
    "# Sequential color scheme not perfect in this case\n",
    "\n",
    "corr = [\n",
    "    [-1, -0.3, 0.5, 0.7, -0.9],\n",
    "    [1, 0.8, 0.6, -0.4, -0.2],\n",
    "    [0.2, 0, -0.5, 0.7, -0.9],\n",
    "    [0.9, -0.8, -0.4, 0.2, 0],\n",
    "    [0.3, 0.4, 0.5, 0.7, 1],\n",
    "]\n",
    "\n",
    "fig = px.imshow(corr, text_auto=True)\n",
    "\n",
    "fig.update_layout(\n",
    "    width=800,\n",
    "    height=500,\n",
    ")\n",
    "\n",
    "fig.show()"
   ]
  },
  {
   "cell_type": "code",
   "execution_count": null,
   "metadata": {},
   "outputs": [],
   "source": [
    "# Set diverging colorscheme for diverging colors from applied default scheme\n",
    "fig = px.imshow(\n",
    "    corr,\n",
    "    text_auto=True,\n",
    "    color_continuous_scale=pio.templates[\n",
    "        pio.templates.default\n",
    "    ].layout.colorscale.diverging,\n",
    ")\n",
    "\n",
    "fig.update_layout(\n",
    "    width=800,\n",
    "    height=500,\n",
    ")\n",
    "\n",
    "fig.show()"
   ]
  },
  {
   "cell_type": "code",
   "execution_count": null,
   "metadata": {},
   "outputs": [],
   "source": [
    "# Set different diverging colorscheme from statworx colormaps\n",
    "fig = px.imshow(\n",
    "    corr, text_auto=True, color_continuous_scale=stwx_cmaps[\"stwx:BlYw_diverging\"]\n",
    ")\n",
    "\n",
    "fig.update_layout(\n",
    "    width=800,\n",
    "    height=500,\n",
    ")\n",
    "fig.show()"
   ]
  },
  {
   "cell_type": "code",
   "execution_count": null,
   "metadata": {},
   "outputs": [],
   "source": [
    "# For plotly graph object heatmaps the diverging color scheme is automatically applied\n",
    "\n",
    "# Source: https://plotly.com/python/heatmaps/\n",
    "\n",
    "np.random.seed(0)\n",
    "focus = np.random.rand(150)\n",
    "np.random.seed(3000)\n",
    "distraction = -(focus * np.random.rand(150))\n",
    "np.random.seed(22000)\n",
    "productivity = np.random.rand(150)\n",
    "home_office = random.choices([0, 1], k=150)\n",
    "\n",
    "df = pd.DataFrame(\n",
    "    {\n",
    "        \"focus\": focus,\n",
    "        \"distraction\": distraction,\n",
    "        \"productivity\": productivity,\n",
    "        \"home_office\": home_office,\n",
    "    }\n",
    ")\n",
    "df_corr = df.corr()\n",
    "\n",
    "fig = go.Figure(\n",
    "    data=go.Heatmap(\n",
    "        x=df_corr.columns,\n",
    "        y=df_corr.index,\n",
    "        z=np.array(df_corr),\n",
    "        text=df_corr.values,\n",
    "        texttemplate=\"%{text:.2f}\",\n",
    "        zmin=-1,\n",
    "        zmax=1,\n",
    "    ),\n",
    ")\n",
    "\n",
    "fig.update_layout(\n",
    "    width=800,\n",
    "    height=500,\n",
    ")\n",
    "\n",
    "fig.show()"
   ]
  },
  {
   "cell_type": "code",
   "execution_count": null,
   "metadata": {},
   "outputs": [],
   "source": [
    "# In case of non-diverging scales, the heatmap color scheme needs to be manually adapted\n",
    "random.seed(123)\n",
    "focus = np.random.rand(150)\n",
    "distraction = focus * np.random.rand(150)\n",
    "productivity = np.random.rand(150)\n",
    "df = pd.DataFrame(\n",
    "    {\n",
    "        \"focus\": focus,\n",
    "        \"distraction\": distraction,\n",
    "        \"productivity\": productivity,\n",
    "        \"home_office\": random.choices([0, 1], k=150),\n",
    "    }\n",
    ")\n",
    "df_corr = df.corr().apply(lambda x: (x - x.min()) / (x.max() - x.min()))\n",
    "\n",
    "# choose colorscale sequential and drop zmin and zmax for other settings than regular correlation\n",
    "fig = go.Figure(\n",
    "    data=go.Heatmap(\n",
    "        x=df_corr.columns,\n",
    "        y=df_corr.index,\n",
    "        z=np.array(df_corr),\n",
    "        text=df_corr.values,\n",
    "        texttemplate=\"%{text:.2f}\",\n",
    "        colorscale=pio.templates[pio.templates.default].layout.colorscale.sequential,\n",
    "    ),\n",
    ")\n",
    "\n",
    "fig.update_layout(\n",
    "    width=800,\n",
    "    height=500,\n",
    ")\n",
    "\n",
    "fig.show()"
   ]
  }
 ],
 "metadata": {
  "kernelspec": {
   "display_name": "Python 3.9.10 ('.venv': poetry)",
   "language": "python",
   "name": "python3"
  },
  "language_info": {
   "codemirror_mode": {
    "name": "ipython",
    "version": 3
   },
   "file_extension": ".py",
   "mimetype": "text/x-python",
   "name": "python",
   "nbconvert_exporter": "python",
   "pygments_lexer": "ipython3",
   "version": "3.9.10"
  },
  "orig_nbformat": 4,
  "vscode": {
   "interpreter": {
    "hash": "2284885e6e98b43849e8b5ec2c301fa918b600d8426a07c1b0270353fe44784b"
   }
  }
 },
 "nbformat": 4,
 "nbformat_minor": 2
}
