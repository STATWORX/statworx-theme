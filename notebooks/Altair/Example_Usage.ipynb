{
 "cells": [
  {
   "cell_type": "markdown",
   "metadata": {},
   "source": [
    "# Example Usage of Statworx Theme for Altair\n",
    "----------------------------------"
   ]
  },
  {
   "cell_type": "markdown",
   "metadata": {},
   "source": [
    "## Imports"
   ]
  },
  {
   "cell_type": "code",
   "execution_count": null,
   "metadata": {},
   "outputs": [],
   "source": [
    "import altair as alt\n",
    "import numpy as np\n",
    "from vega_datasets import data"
   ]
  },
  {
   "cell_type": "markdown",
   "metadata": {},
   "source": [
    "## Apply Style"
   ]
  },
  {
   "cell_type": "code",
   "execution_count": null,
   "metadata": {},
   "outputs": [],
   "source": [
    "from statworx_theme import apply_style_altair\n",
    "\n",
    "print(alt.themes.active)\n",
    "\n",
    "apply_style_altair()\n",
    "\n",
    "print(alt.themes.active)"
   ]
  },
  {
   "cell_type": "markdown",
   "metadata": {},
   "source": [
    "## Plot"
   ]
  },
  {
   "cell_type": "markdown",
   "metadata": {},
   "source": [
    "### Altair Plots"
   ]
  },
  {
   "cell_type": "code",
   "execution_count": null,
   "metadata": {},
   "outputs": [],
   "source": [
    "dataset = data.stocks()\n",
    "\n",
    "alt.Chart(dataset).mark_line().encode(\n",
    "    x=alt.X(\"date:T\"),\n",
    "    y=alt.Y(\"price:Q\"),\n",
    "    color=(\"symbol:N\"),\n",
    ").properties(\n",
    "    height=500,\n",
    "    width=800,\n",
    "    title={\n",
    "        \"text\": \"Stock Prices over time\",\n",
    "        \"subtitle\": [\"From 2000 until 2010\", \"Prices in US$\"],\n",
    "    },\n",
    ").interactive()"
   ]
  },
  {
   "cell_type": "code",
   "execution_count": null,
   "metadata": {},
   "outputs": [],
   "source": [
    "dataset = data.seattle_weather()\n",
    "\n",
    "alt.Chart(dataset[1:]).mark_circle().encode(\n",
    "    alt.X(alt.repeat(\"column\"), type=\"quantitative\"),\n",
    "    alt.Y(alt.repeat(\"row\"), type=\"quantitative\"),\n",
    "    color=\"weather:N\",\n",
    ").properties(width=200, height=200).repeat(\n",
    "    row=[\"precipitation\", \"temp_max\", \"temp_min\"],\n",
    "    column=[\"temp_min\", \"temp_max\", \"precipitation\"],\n",
    ").interactive()"
   ]
  }
 ],
 "metadata": {
  "kernelspec": {
   "display_name": "Python 3.9.10 ('.venv': poetry)",
   "language": "python",
   "name": "python3"
  },
  "language_info": {
   "codemirror_mode": {
    "name": "ipython",
    "version": 3
   },
   "file_extension": ".py",
   "mimetype": "text/x-python",
   "name": "python",
   "nbconvert_exporter": "python",
   "pygments_lexer": "ipython3",
   "version": "3.11.3"
  },
  "orig_nbformat": 4,
  "vscode": {
   "interpreter": {
    "hash": "2284885e6e98b43849e8b5ec2c301fa918b600d8426a07c1b0270353fe44784b"
   }
  }
 },
 "nbformat": 4,
 "nbformat_minor": 2
}
