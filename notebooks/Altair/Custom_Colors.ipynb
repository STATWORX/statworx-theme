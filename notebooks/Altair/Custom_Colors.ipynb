{
 "cells": [
  {
   "cell_type": "markdown",
   "metadata": {},
   "source": [
    "# Custom Colors Altair\n",
    "----------------------------------"
   ]
  },
  {
   "cell_type": "markdown",
   "metadata": {},
   "source": [
    "## Imports"
   ]
  },
  {
   "cell_type": "code",
   "execution_count": null,
   "metadata": {},
   "outputs": [],
   "source": [
    "import altair as alt\n",
    "import numpy as np\n",
    "import pandas as pd\n",
    "from vega_datasets import data"
   ]
  },
  {
   "cell_type": "markdown",
   "metadata": {},
   "source": [
    "## Generate Custom Style"
   ]
  },
  {
   "cell_type": "code",
   "execution_count": null,
   "metadata": {},
   "outputs": [],
   "source": [
    "from statworx_theme import (\n",
    "    apply_custom_colors_altair,\n",
    "    get_stwx_cmaps,\n",
    "    register_blended_cmap,\n",
    ")\n",
    "\n",
    "# define custom colors\n",
    "BLACK = \"#000000\"\n",
    "WHITE = \"#ffffff\"\n",
    "DARK_BLUE = \"#0A526B\"\n",
    "DARK_RED = \"#6B0020\"\n",
    "GREY = \"#808285\"\n",
    "DARK_GREY = \"#313132\"\n",
    "LIGHT_GREY = \"#ADAFB3\"\n",
    "\n",
    "# apply custom color schema\n",
    "custom_colors = [\n",
    "    DARK_BLUE,\n",
    "    DARK_RED,\n",
    "    GREY,\n",
    "    DARK_GREY,\n",
    "    LIGHT_GREY,\n",
    "]\n",
    "\n",
    "# add custom color map\n",
    "_ = register_blended_cmap([BLACK, DARK_BLUE, WHITE], \"stwx:custom_blue_fade\")\n",
    "\n",
    "stwx_cmaps = get_stwx_cmaps()"
   ]
  },
  {
   "cell_type": "markdown",
   "metadata": {},
   "source": [
    "## Colormaps for Manipulation of the theme"
   ]
  },
  {
   "cell_type": "code",
   "execution_count": null,
   "metadata": {},
   "outputs": [],
   "source": [
    "stwx_cmaps = get_stwx_cmaps()\n",
    "\n",
    "stwx_cmaps.keys()"
   ]
  },
  {
   "cell_type": "markdown",
   "metadata": {},
   "source": [
    "## Apply Custom Style Altair"
   ]
  },
  {
   "cell_type": "code",
   "execution_count": null,
   "metadata": {},
   "outputs": [],
   "source": [
    "# Any of the colormaps or any list of hexadecimal colorcodes can be applied inside the custom theme:\n",
    "# Parameters: primary, category, diverging, heatmap, ramp, ordinal, n_groups_ordinal\n",
    "apply_custom_colors_altair(category=custom_colors, ordinal=stwx_cmaps[\"stwx:custom_blue_fade\"])\n",
    "print(alt.themes.active)"
   ]
  },
  {
   "cell_type": "markdown",
   "metadata": {},
   "source": [
    "## Plot"
   ]
  },
  {
   "cell_type": "code",
   "execution_count": null,
   "metadata": {},
   "outputs": [],
   "source": [
    "# Custom categorical colors\n",
    "dataset = data.stocks()\n",
    "\n",
    "alt.Chart(dataset).mark_line().encode(\n",
    "    x=alt.X(\"date:T\"),\n",
    "    y=alt.Y(\"price:Q\"),\n",
    "    color=(\"symbol:N\"),\n",
    ").properties(\n",
    "    height=500,\n",
    "    width=800,\n",
    "    title={\n",
    "        \"text\": \"Stock Prices over time\",\n",
    "        \"subtitle\": [\"From 2000 until 2010\", \"Prices in US$\"],\n",
    "    },\n",
    ").interactive()"
   ]
  },
  {
   "cell_type": "code",
   "execution_count": null,
   "metadata": {},
   "outputs": [],
   "source": [
    "# Default number of categories for ordinal colors is 10\n",
    "# Ordinal Plot with less than 10 variables does not show a good fade in color\n",
    "\n",
    "source = data.cars()\n",
    "\n",
    "alt.Chart(source).mark_point().encode(\n",
    "    x=\"Horsepower:Q\", y=\"Miles_per_Gallon:Q\", color=\"Cylinders:O\"\n",
    ").properties(width=800, height=500)"
   ]
  },
  {
   "cell_type": "code",
   "execution_count": null,
   "metadata": {},
   "outputs": [],
   "source": [
    "# To fix the fade, provide the n_groups_ordinal parameter to the apply function\n",
    "\n",
    "apply_custom_colors_altair(\n",
    "    category=custom_colors,\n",
    "    ordinal=stwx_cmaps[\"stwx:custom_blue_fade\"],\n",
    "    n_groups_ordinal=5,\n",
    ")\n",
    "\n",
    "# Plot again\n",
    "alt.Chart(source).mark_point().encode(\n",
    "    x=\"Horsepower:Q\", y=\"Miles_per_Gallon:Q\", color=\"Cylinders:O\"\n",
    ").properties(width=800, height=500)"
   ]
  },
  {
   "cell_type": "code",
   "execution_count": null,
   "metadata": {},
   "outputs": [],
   "source": [
    "# Diverging colors not perfect for this heatmap\n",
    "\n",
    "# Source: https://altair-viz.github.io/gallery/index.html\n",
    "# Compute x^2 + y^2 across a 2D grid\n",
    "x, y = np.meshgrid(range(-5, 5), range(-5, 5))\n",
    "z = x**2 + y**2\n",
    "\n",
    "dataset = pd.DataFrame({\"x\": x.ravel(), \"y\": y.ravel(), \"z\": z.ravel()})\n",
    "\n",
    "alt.Chart(dataset).mark_rect().encode(x=\"x:O\", y=\"y:O\", color=\"z:Q\")"
   ]
  },
  {
   "cell_type": "code",
   "execution_count": null,
   "metadata": {},
   "outputs": [],
   "source": [
    "# Apply a blending colormap for the heatmap\n",
    "apply_custom_colors_altair(\n",
    "    category=custom_colors,\n",
    "    ordinal=stwx_cmaps[\"stwx:custom_blue_fade\"],\n",
    "    heatmap=stwx_cmaps[\"stwx:BlRd_blend\"],\n",
    "    n_groups_ordinal=5,\n",
    ")\n",
    "\n",
    "alt.Chart(dataset).mark_rect().encode(x=\"x:O\", y=\"y:O\", color=\"z:Q\")"
   ]
  }
 ],
 "metadata": {
  "kernelspec": {
   "display_name": "Python 3.9.10 ('.venv': poetry)",
   "language": "python",
   "name": "python3"
  },
  "language_info": {
   "codemirror_mode": {
    "name": "ipython",
    "version": 3
   },
   "file_extension": ".py",
   "mimetype": "text/x-python",
   "name": "python",
   "nbconvert_exporter": "python",
   "pygments_lexer": "ipython3",
   "version": "3.11.3"
  },
  "orig_nbformat": 4,
  "vscode": {
   "interpreter": {
    "hash": "2284885e6e98b43849e8b5ec2c301fa918b600d8426a07c1b0270353fe44784b"
   }
  }
 },
 "nbformat": 4,
 "nbformat_minor": 2
}
