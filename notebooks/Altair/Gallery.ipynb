{
 "cells": [
  {
   "cell_type": "markdown",
   "metadata": {},
   "source": [
    "# Gallery\n",
    "---------"
   ]
  },
  {
   "cell_type": "markdown",
   "metadata": {},
   "source": [
    "## Apply Style"
   ]
  },
  {
   "cell_type": "code",
   "execution_count": null,
   "metadata": {},
   "outputs": [],
   "source": [
    "from statworx_theme import apply_style_altair\n",
    "\n",
    "# apply style\n",
    "apply_style_altair()"
   ]
  },
  {
   "cell_type": "markdown",
   "metadata": {},
   "source": [
    "## Distributions"
   ]
  },
  {
   "cell_type": "code",
   "execution_count": null,
   "metadata": {},
   "outputs": [],
   "source": [
    "import altair as alt\n",
    "from vega_datasets import data\n",
    "\n",
    "dataset = data.cars()\n",
    "\n",
    "\n",
    "alt.Chart(dataset).transform_density(\n",
    "    \"Miles_per_Gallon\",\n",
    "    as_=[\"Miles_per_Gallon\", \"density\"],\n",
    ").mark_area().encode(x=\"Miles_per_Gallon:Q\", y=\"density:Q\",).properties(\n",
    "    width=800, height=500, title=\"Kernel density estimation Miles per Gallon\"\n",
    ")"
   ]
  },
  {
   "cell_type": "code",
   "execution_count": null,
   "metadata": {},
   "outputs": [],
   "source": [
    "# Source: https://altair-viz.github.io/gallery/index.html\n",
    "dataset = data.iris()\n",
    "\n",
    "alt.Chart(dataset).mark_area().encode(\n",
    "    alt.X(\"value:Q\"), alt.Y(\"density:Q\", stack=\"zero\"), alt.Color(\"Measure:N\")\n",
    ").transform_fold(\n",
    "    [\"petalWidth\", \"petalLength\", \"sepalWidth\", \"sepalLength\"], as_=[\"Measure\", \"value\"]\n",
    ").transform_density(\n",
    "    density=\"value\", groupby=[\"Measure\"], extent=[-1, 9], steps=1000\n",
    ").properties(\n",
    "    width=1000, height=500, title=\"Stacked density estimation - iris dataset\"\n",
    ")"
   ]
  },
  {
   "cell_type": "code",
   "execution_count": null,
   "metadata": {},
   "outputs": [],
   "source": [
    "alt.Chart(dataset).transform_fold(\n",
    "    [\"petalWidth\", \"petalLength\", \"sepalWidth\", \"sepalLength\"], as_=[\"Measure\", \"value\"]\n",
    ").transform_density(\n",
    "    density=\"value\", groupby=[\"Measure\"], extent=[-1, 9], steps=1000\n",
    ").mark_area(\n",
    "    orient=\"horizontal\"\n",
    ").encode(\n",
    "    y=\"value:Q\",\n",
    "    color=\"Measure:N\",\n",
    "    x=alt.X(\n",
    "        \"density:Q\",\n",
    "        stack=\"center\",\n",
    "        title=None,\n",
    "        axis=alt.Axis(labels=False, values=[0], grid=False, ticks=True),\n",
    "    ),\n",
    "    column=alt.Column(\n",
    "        \"Measure:N\",\n",
    "        header=alt.Header(\n",
    "            titleOrient=\"bottom\",\n",
    "            labelOrient=\"bottom\",\n",
    "            labelPadding=0,\n",
    "        ),\n",
    "    ),\n",
    ").properties(\n",
    "    width=250, height=500\n",
    ").configure_facet(\n",
    "    spacing=0\n",
    ").configure_view(\n",
    "    stroke=None\n",
    ")"
   ]
  },
  {
   "cell_type": "code",
   "execution_count": null,
   "metadata": {},
   "outputs": [],
   "source": [
    "# Source: https://altair-viz.github.io/gallery/index.html\n",
    "source = data.seattle_weather.url\n",
    "\n",
    "step = 34\n",
    "overlap = 1\n",
    "\n",
    "alt.Chart(source, height=step, width=800).transform_timeunit(\n",
    "    Month=\"month(date)\"\n",
    ").transform_joinaggregate(mean_temp=\"mean(temp_max)\", groupby=[\"Month\"]).transform_bin(\n",
    "    [\"bin_max\", \"bin_min\"], \"temp_max\"\n",
    ").transform_aggregate(\n",
    "    value=\"count()\", groupby=[\"Month\", \"mean_temp\", \"bin_min\", \"bin_max\"]\n",
    ").transform_impute(\n",
    "    impute=\"value\", groupby=[\"Month\", \"mean_temp\"], key=\"bin_min\", value=0\n",
    ").mark_area(\n",
    "    interpolate=\"monotone\", fillOpacity=0.8, stroke=\"lightgray\", strokeWidth=0.5\n",
    ").encode(\n",
    "    alt.X(\"bin_min:Q\", bin=\"binned\", title=\"Maximum Daily Temperature (C)\"),\n",
    "    alt.Y(\"value:Q\", scale=alt.Scale(range=[step, -step * overlap]), axis=None),\n",
    "    alt.Fill(\n",
    "        \"mean_temp:Q\",\n",
    "        legend=None,\n",
    "        scale=alt.Scale(domain=[30, 5], scheme=\"redyellowblue\"),\n",
    "    ),\n",
    ").facet(\n",
    "    row=alt.Row(\n",
    "        \"Month:T\",\n",
    "        title=None,\n",
    "        header=alt.Header(labelAngle=0, labelAlign=\"right\", format=\"%B\"),\n",
    "    ),\n",
    ").properties(\n",
    "    title=\"Seattle Weather\",\n",
    "    bounds=\"flush\",\n",
    ").configure_facet(\n",
    "    spacing=0\n",
    ").configure_view(\n",
    "    stroke=None\n",
    ").configure_title(\n",
    "    anchor=\"end\"\n",
    ")"
   ]
  },
  {
   "cell_type": "markdown",
   "metadata": {},
   "source": [
    "## Timeseries"
   ]
  },
  {
   "cell_type": "code",
   "execution_count": null,
   "metadata": {},
   "outputs": [],
   "source": [
    "source = data.stocks()\n",
    "\n",
    "alt.Chart(source).mark_line().encode(\n",
    "    x=\"date\",\n",
    "    y=\"price\",\n",
    "    color=\"symbol\",\n",
    ").properties(width=800, height=500)"
   ]
  },
  {
   "cell_type": "code",
   "execution_count": null,
   "metadata": {},
   "outputs": [],
   "source": [
    "data.reset_index()"
   ]
  },
  {
   "cell_type": "code",
   "execution_count": null,
   "metadata": {},
   "outputs": [],
   "source": [
    "rs = np.random.RandomState(365)\n",
    "values = rs.randn(365, 4).cumsum(axis=0)\n",
    "dates = pd.date_range(\"1 1 2016\", periods=365, freq=\"D\")\n",
    "dataset = pd.DataFrame(values, dates, columns=[\"A\", \"B\", \"C\", \"D\"])\n",
    "dataset = dataset.rolling(7).mean()\n",
    "dataset = dataset.reset_index().rename({\"index\": \"date\"}, axis=1)\n",
    "\n",
    "alt.Chart(dataset).mark_line(size=3).transform_fold(\n",
    "    [\"A\", \"B\", \"C\", \"D\"], as_=[\"Measure\", \"value\"]\n",
    ").encode(x=\"date:T\", y=\"value:Q\", color=\"Measure:N\", strokeDash=\"Measure:N\").properties(\n",
    "    width=800, height=500\n",
    ")"
   ]
  },
  {
   "cell_type": "code",
   "execution_count": null,
   "metadata": {},
   "outputs": [],
   "source": [
    "# Source: https://altair-viz.github.io/gallery/index.html\n",
    "source = data.stocks()\n",
    "\n",
    "highlight = alt.selection(\n",
    "    type=\"single\", on=\"mouseover\", fields=[\"symbol\"], nearest=True\n",
    ")\n",
    "\n",
    "base = alt.Chart(source).encode(x=\"date:T\", y=\"price:Q\", color=\"symbol:N\")\n",
    "\n",
    "points = (\n",
    "    base.mark_circle()\n",
    "    .encode(opacity=alt.value(0))\n",
    "    .add_selection(highlight)\n",
    "    .properties(width=800, height=500)\n",
    ")\n",
    "\n",
    "lines = base.mark_line().encode(\n",
    "    size=alt.condition(~highlight, alt.value(1), alt.value(3))\n",
    ")\n",
    "\n",
    "points + lines"
   ]
  },
  {
   "cell_type": "markdown",
   "metadata": {},
   "source": [
    "## Relationship"
   ]
  },
  {
   "cell_type": "code",
   "execution_count": null,
   "metadata": {},
   "outputs": [],
   "source": [
    "# Source: https://altair-viz.github.io/gallery/index.html\n",
    "source = data.iris()\n",
    "\n",
    "alt.Chart(source).mark_circle().encode(\n",
    "    alt.X(\"sepalLength\", scale=alt.Scale(zero=False)),\n",
    "    alt.Y(\"sepalWidth\", scale=alt.Scale(zero=False, padding=1)),\n",
    "    color=\"species\",\n",
    "    size=\"petalWidth\",\n",
    ").properties(width=800, height=500)"
   ]
  },
  {
   "cell_type": "code",
   "execution_count": null,
   "metadata": {},
   "outputs": [],
   "source": [
    "dataset = data.seattle_weather()\n",
    "\n",
    "alt.Chart(dataset[1:]).mark_circle().encode(\n",
    "    alt.X(alt.repeat(\"column\"), type=\"quantitative\"),\n",
    "    alt.Y(alt.repeat(\"row\"), type=\"quantitative\"),\n",
    "    color=\"weather:N\",\n",
    ").properties(width=200, height=200).repeat(\n",
    "    row=[\"precipitation\", \"temp_max\", \"temp_min\"],\n",
    "    column=[\"temp_min\", \"temp_max\", \"precipitation\"],\n",
    ").interactive()"
   ]
  },
  {
   "cell_type": "code",
   "execution_count": null,
   "metadata": {},
   "outputs": [],
   "source": [
    "# Source: https://altair-viz.github.io/gallery/dot_dash_plot.html\n",
    "\n",
    "source = data.cars()\n",
    "\n",
    "# Configure the options common to all layers\n",
    "brush = alt.selection(type=\"interval\")\n",
    "base = alt.Chart(source).add_selection(brush)\n",
    "\n",
    "# Configure the points\n",
    "points = (\n",
    "    base.mark_point()\n",
    "    .encode(\n",
    "        x=alt.X(\"Miles_per_Gallon\", title=\"\"),\n",
    "        y=alt.Y(\"Horsepower\", title=\"\"),\n",
    "        color=alt.condition(brush, \"Origin\", alt.value(\"grey\")),\n",
    "    )\n",
    "    .properties(width=800, height=500, title=\"Scatter - Tick Plot\")\n",
    ")\n",
    "\n",
    "# Configure the ticks\n",
    "tick_axis = alt.Axis(labels=False, domain=False, ticks=False)\n",
    "\n",
    "x_ticks = (\n",
    "    base.mark_tick()\n",
    "    .encode(\n",
    "        alt.X(\"Miles_per_Gallon\", axis=tick_axis),\n",
    "        alt.Y(\"Origin\", title=\"\", axis=tick_axis),\n",
    "        color=alt.condition(brush, \"Origin\", alt.value(\"lightgrey\")),\n",
    "    )\n",
    "    .properties(\n",
    "        width=800,\n",
    "    )\n",
    ")\n",
    "\n",
    "y_ticks = (\n",
    "    base.mark_tick()\n",
    "    .encode(\n",
    "        alt.X(\"Origin\", title=\"\", axis=tick_axis),\n",
    "        alt.Y(\"Horsepower\", axis=tick_axis),\n",
    "        color=alt.condition(brush, \"Origin\", alt.value(\"lightgrey\")),\n",
    "    )\n",
    "    .properties(height=500)\n",
    ")\n",
    "\n",
    "# Build the chart\n",
    "(y_ticks | (points & x_ticks))"
   ]
  },
  {
   "cell_type": "code",
   "execution_count": null,
   "metadata": {},
   "outputs": [],
   "source": [
    "# Source: https://altair-viz.github.io/gallery/scatter_marginal_hist.html\n",
    "\n",
    "source = data.iris()\n",
    "\n",
    "base = alt.Chart(source, width=700, height=400)\n",
    "\n",
    "xscale = alt.Scale(domain=(4.0, 8.0))\n",
    "yscale = alt.Scale(domain=(1.9, 4.55))\n",
    "\n",
    "bar_args = {\"opacity\": 0.3, \"binSpacing\": 0}\n",
    "\n",
    "points = base.mark_circle().encode(\n",
    "    alt.X(\"sepalLength\", scale=xscale),\n",
    "    alt.Y(\"sepalWidth\", scale=yscale),\n",
    "    color=\"species\",\n",
    ")\n",
    "\n",
    "top_hist = (\n",
    "    base.mark_bar(**bar_args)\n",
    "    .encode(\n",
    "        alt.X(\n",
    "            \"sepalLength:Q\",\n",
    "            # when using bins, the axis scale is set through\n",
    "            # the bin extent, so we do not specify the scale here\n",
    "            # (which would be ignored anyway)\n",
    "            bin=alt.Bin(maxbins=20, extent=xscale.domain),\n",
    "            stack=None,\n",
    "            title=\"\",\n",
    "        ),\n",
    "        alt.Y(\"count()\", stack=None, title=\"\"),\n",
    "        alt.Color(\"species:N\"),\n",
    "    )\n",
    "    .properties(height=100)\n",
    ")\n",
    "\n",
    "right_hist = (\n",
    "    base.mark_bar(**bar_args)\n",
    "    .encode(\n",
    "        alt.Y(\n",
    "            \"sepalWidth:Q\",\n",
    "            bin=alt.Bin(maxbins=20, extent=yscale.domain),\n",
    "            stack=None,\n",
    "            title=\"\",\n",
    "        ),\n",
    "        alt.X(\"count()\", stack=None, title=\"\"),\n",
    "        alt.Color(\"species:N\"),\n",
    "    )\n",
    "    .properties(width=100)\n",
    ")\n",
    "\n",
    "top_hist & (points | right_hist)"
   ]
  },
  {
   "cell_type": "code",
   "execution_count": null,
   "metadata": {},
   "outputs": [],
   "source": [
    "dataset = data.iris()\n",
    "\n",
    "# Compute the correlation matrix\n",
    "corr = dataset.corr()\n",
    "\n",
    "# Transform correlation matrix\n",
    "corr = (\n",
    "    corr.stack()\n",
    "    .reset_index()\n",
    "    .rename(columns={\"level_0\": \"variable1\", \"level_1\": \"variable2\", 0: \"correlation\"})\n",
    ")\n",
    "\n",
    "base = (\n",
    "    alt.Chart(corr)\n",
    "    .encode(\n",
    "        x=\"variable1:O\",\n",
    "        y=\"variable2:O\",\n",
    "    )\n",
    "    .properties(width=800, height=500)\n",
    ")\n",
    "\n",
    "corr_values = base.mark_text().encode(text=alt.Text(\"correlation\"))\n",
    "\n",
    "\n",
    "plot = base.mark_rect().encode(\n",
    "    x=\"variable1:O\",\n",
    "    y=\"variable2:O\",\n",
    "    color=alt.Color(\"correlation:Q\", scale=alt.Scale(domain=[-1, 1])),\n",
    ")\n",
    "\n",
    "plot + corr_values"
   ]
  },
  {
   "cell_type": "markdown",
   "metadata": {},
   "source": [
    "## Comparison"
   ]
  },
  {
   "cell_type": "code",
   "execution_count": null,
   "metadata": {},
   "outputs": [],
   "source": [
    "import seaborn as sns\n",
    "\n",
    "penguins = sns.load_dataset(\"penguins\")\n",
    "\n",
    "alt.Chart(penguins).mark_bar().encode(\n",
    "    x=alt.X(\"sex:N\", title=None),\n",
    "    y=\"body_mass_g:Q\",\n",
    "    color=\"sex:N\",\n",
    "    column=alt.Column(\"species:N\", title=None),\n",
    ").properties(width=250, height=500)"
   ]
  },
  {
   "cell_type": "code",
   "execution_count": null,
   "metadata": {},
   "outputs": [],
   "source": [
    "# Source: https://altair-viz.github.io/gallery/index.html\n",
    "source = data.barley()\n",
    "\n",
    "alt.Chart(source).mark_bar().encode(\n",
    "    x=\"sum(yield)\",\n",
    "    y=\"variety\",\n",
    "    color=\"site\",\n",
    "    order=alt.Order(\n",
    "        # Sort the segments of the bars by this field\n",
    "        \"site\",\n",
    "        sort=\"ascending\",\n",
    "    ),\n",
    ").properties(width=800, height=500)"
   ]
  },
  {
   "cell_type": "markdown",
   "metadata": {},
   "source": [
    "## Difference"
   ]
  },
  {
   "cell_type": "code",
   "execution_count": null,
   "metadata": {},
   "outputs": [],
   "source": [
    "# Source: https://altair-viz.github.io/gallery/index.html\n",
    "\n",
    "from statworx_theme import apply_custom_colors_altair\n",
    "\n",
    "# 19 age groups in the data to plot\n",
    "apply_custom_colors_altair(n_groups_ordinal=19)\n",
    "\n",
    "source = data.population.url\n",
    "\n",
    "alt.Chart(source).mark_boxplot(extent=0.5, ticks=True, size=20).encode(\n",
    "    x=\"age:O\", y=\"people:Q\", color=alt.Color(\"age:O\")\n",
    ").properties(width=800, height=500)"
   ]
  },
  {
   "cell_type": "code",
   "execution_count": null,
   "metadata": {},
   "outputs": [],
   "source": [
    "dataset = data.iris()\n",
    "\n",
    "scatterplot = (\n",
    "    alt.Chart(dataset)\n",
    "    .mark_point()\n",
    "    .encode(\n",
    "        x=alt.X(\"sepalLength:Q\", scale=alt.Scale(domain=[4, 8])),\n",
    "        y=alt.Y(\"sepalWidth:Q\", scale=alt.Scale(domain=[0, 5])),\n",
    "        color=\"species:N\",\n",
    "    )\n",
    "    .properties(width=800, height=500)\n",
    ")\n",
    "\n",
    "# Altair plot color by variable\n",
    "scatterplot + scatterplot.transform_regression(\n",
    "    \"sepalLength\", \"sepalWidth\", groupby=[\"species\"]\n",
    ").mark_line(size=3)"
   ]
  },
  {
   "cell_type": "code",
   "execution_count": null,
   "metadata": {},
   "outputs": [],
   "source": [
    "# Source: https://altair-viz.github.io/gallery/stripplot.html\n",
    "import seaborn as sns\n",
    "\n",
    "penguins = sns.load_dataset(\"penguins\")\n",
    "\n",
    "stripplot = (\n",
    "    alt.Chart(penguins)\n",
    "    .mark_circle(size=35)\n",
    "    .encode(\n",
    "        y=alt.Y(\n",
    "            \"jitter:Q\",\n",
    "            title=None,\n",
    "            axis=alt.Axis(values=[0], ticks=True, grid=False, labels=False),\n",
    "            scale=alt.Scale(),\n",
    "        ),\n",
    "        x=alt.X(\"body_mass_g:Q\", scale=alt.Scale(domain=[2500, 6500])),\n",
    "        color=alt.Color(\"species:N\"),\n",
    "        row=alt.Row(\n",
    "            \"sex:N\",\n",
    "            header=alt.Header(\n",
    "                labelAngle=-90,\n",
    "                titleOrient=\"left\",\n",
    "                labelOrient=\"left\",\n",
    "                labelAlign=\"center\",\n",
    "                labelPadding=3,\n",
    "            ),\n",
    "        ),\n",
    "    )\n",
    "    .transform_calculate(\n",
    "        # Generate Gaussian jitter with a Box-Muller transform\n",
    "        jitter=\"sqrt(-2*log(random()))*cos(2*PI*random())\"\n",
    "    )\n",
    "    .configure_facet(spacing=0)\n",
    "    .configure_view(stroke=None)\n",
    "    .properties(height=100, width=800)\n",
    ")\n",
    "\n",
    "stripplot"
   ]
  },
  {
   "cell_type": "markdown",
   "metadata": {},
   "source": [
    "## Additional Plots and Inspiration"
   ]
  },
  {
   "cell_type": "markdown",
   "metadata": {},
   "source": [
    "https://altair-viz.github.io/gallery/index.html\n",
    "\n",
    "https://joelostblom.github.io/altair_ally/intro.html\n",
    "\n",
    "https://github.com/joelostblom/altair_ally\n",
    "\n",
    "https://github.com/justinbois/altair-catplot"
   ]
  },
  {
   "cell_type": "markdown",
   "metadata": {},
   "source": []
  }
 ],
 "metadata": {
  "kernelspec": {
   "display_name": "Python 3.9.10 ('.venv': poetry)",
   "language": "python",
   "name": "python3"
  },
  "language_info": {
   "codemirror_mode": {
    "name": "ipython",
    "version": 3
   },
   "file_extension": ".py",
   "mimetype": "text/x-python",
   "name": "python",
   "nbconvert_exporter": "python",
   "pygments_lexer": "ipython3",
   "version": "3.9.10"
  },
  "orig_nbformat": 4,
  "vscode": {
   "interpreter": {
    "hash": "2284885e6e98b43849e8b5ec2c301fa918b600d8426a07c1b0270353fe44784b"
   }
  }
 },
 "nbformat": 4,
 "nbformat_minor": 2
}
