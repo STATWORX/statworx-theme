{
 "cells": [
  {
   "cell_type": "markdown",
   "metadata": {},
   "source": [
    "# Custom Colors \n",
    "----------------------------------"
   ]
  },
  {
   "cell_type": "markdown",
   "metadata": {},
   "source": [
    "## Imports"
   ]
  },
  {
   "cell_type": "code",
   "execution_count": null,
   "metadata": {},
   "outputs": [],
   "source": [
    "import matplotlib.pyplot as plt\n",
    "import numpy as np\n",
    "import seaborn as sns"
   ]
  },
  {
   "cell_type": "markdown",
   "metadata": {},
   "source": [
    "## Apply Style"
   ]
  },
  {
   "cell_type": "code",
   "execution_count": null,
   "metadata": {},
   "outputs": [],
   "source": [
    "from statworx_theme import apply_custom_colors, register_blended_cmap\n",
    "\n",
    "# define custom colors\n",
    "BLACK = \"#000000\"\n",
    "WHITE = \"#ffffff\"\n",
    "DARK_BLUE = \"#0A526B\"\n",
    "DARK_RED = \"#6B0020\"\n",
    "GREY = \"#808285\"\n",
    "DARK_GREY = \"#313132\"\n",
    "LIGHT_GREY = \"#ADAFB3\"\n",
    "\n",
    "# apply custom color schema\n",
    "custom_colors = [\n",
    "    DARK_BLUE,\n",
    "    DARK_RED,\n",
    "    GREY,\n",
    "    DARK_GREY,\n",
    "    LIGHT_GREY,\n",
    "]\n",
    "apply_custom_colors(custom_colors)\n",
    "\n",
    "# add custom color map for custom\n",
    "_ = register_blended_cmap([BLACK, DARK_BLUE, WHITE], \"stwx:custom_blue_fade\")"
   ]
  },
  {
   "cell_type": "markdown",
   "metadata": {},
   "source": [
    "## Plot"
   ]
  },
  {
   "cell_type": "markdown",
   "metadata": {},
   "source": [
    "### Basic Matplotlib Plot"
   ]
  },
  {
   "cell_type": "code",
   "execution_count": null,
   "metadata": {},
   "outputs": [],
   "source": [
    "# Basic Matplotlib Plot\n",
    "\n",
    "# generate data\n",
    "X1 = np.sin(np.linspace(0, 10, 100)) + np.random.normal(scale=0.5, size=100)\n",
    "X2 = np.cos(np.linspace(0, 10, 100)) + np.random.normal(scale=0.3, size=100)\n",
    "\n",
    "# plot lines\n",
    "plt.plot(X1, label=\"Line 1\")\n",
    "plt.plot(X2, label=\"Line 2\")\n",
    "\n",
    "# add labels\n",
    "plt.legend()\n",
    "plt.title(\"Lorem Ipsum Dolor Sit Amet\")\n",
    "plt.xlabel(\"Loras (in s)\")\n",
    "plt.ylabel(\"Dolor (in mm)\")"
   ]
  },
  {
   "cell_type": "markdown",
   "metadata": {},
   "source": [
    "### Basic Seaborn Plot"
   ]
  },
  {
   "cell_type": "code",
   "execution_count": null,
   "metadata": {},
   "outputs": [],
   "source": [
    "# Load Data\n",
    "penguins = sns.load_dataset(\"penguins\")\n",
    "\n",
    "# Plot sepal width as a function of sepal_length across days\n",
    "g = sns.lmplot(\n",
    "    data=penguins,\n",
    "    x=\"bill_length_mm\",\n",
    "    y=\"bill_depth_mm\",\n",
    "    hue=\"species\",\n",
    "    height=5,\n",
    ")\n",
    "\n",
    "# Use more informative axis labels than are provided by default\n",
    "g.set_axis_labels(\"Snoot length (mm)\", \"Snoot depth (mm)\")\n",
    "plt.title(\"Lorem Ipsum Dolor Sit\")"
   ]
  },
  {
   "cell_type": "markdown",
   "metadata": {},
   "source": [
    "### Seaborn Plot With Custom Color Map"
   ]
  },
  {
   "cell_type": "code",
   "execution_count": null,
   "metadata": {},
   "outputs": [],
   "source": [
    "# Load the example planets dataset\n",
    "planets = sns.load_dataset(\"planets\")\n",
    "\n",
    "g = sns.relplot(\n",
    "    data=planets,\n",
    "    x=\"distance\",\n",
    "    y=\"orbital_period\",\n",
    "    hue=\"year\",\n",
    "    size=\"mass\",\n",
    "    sizes=(10, 200),\n",
    "    palette=\"stwx:custom_blue_fade\",\n",
    ")\n",
    "### Basic Seaborn Plot\n",
    "g.set(xscale=\"log\", yscale=\"log\")\n",
    "g.ax.xaxis.grid(True, \"minor\", linewidth=0.25)\n",
    "g.ax.yaxis.grid(True, \"minor\", linewidth=0.25)\n",
    "g.despine(left=True, bottom=True)"
   ]
  }
 ],
 "metadata": {
  "interpreter": {
   "hash": "ec5e8a6dec373659227548865fd1d434faf4663ffc2d186c860b8d19ec87e7c3"
  },
  "kernelspec": {
   "display_name": "Python 3.10.2 ('.venv': poetry)",
   "language": "python",
   "name": "python3"
  },
  "language_info": {
   "codemirror_mode": {
    "name": "ipython",
    "version": 3
   },
   "file_extension": ".py",
   "mimetype": "text/x-python",
   "name": "python",
   "nbconvert_exporter": "python",
   "pygments_lexer": "ipython3",
   "version": "3.8.9"
  },
  "orig_nbformat": 4
 },
 "nbformat": 4,
 "nbformat_minor": 2
}
